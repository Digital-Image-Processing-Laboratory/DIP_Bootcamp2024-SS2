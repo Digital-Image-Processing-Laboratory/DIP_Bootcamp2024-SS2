{
 "cells": [
  {
   "cell_type": "markdown",
   "metadata": {},
   "source": [
    "# **Lab 3.3 Histogram of Oriented Gradients(HoG)**"
   ]
  },
  {
   "cell_type": "code",
   "execution_count": null,
   "metadata": {},
   "outputs": [],
   "source": [
    "import cv2\n",
    "import matplotlib.pyplot as plt\n",
    "import numpy as np\n",
    "import pandas as pd\n",
    "import matplotlib.pyplot as plt\n",
    "from skimage.feature import hog"
   ]
  },
  {
   "cell_type": "markdown",
   "metadata": {},
   "source": [
    "Read 2 images using OpenCV.\n",
    "\n",
    "<details>\n",
    "<summary>\n",
    "<font size=\"3\" color=\"orange\">\n",
    "<b>Expected output</b>\n",
    "</font>\n",
    "</summary>\n",
    "\n",
    "- The output should resemble this, but not be identical\n",
    "\n",
    "![image.png](https://raw.githubusercontent.com/Digital-Image-Processing-Laboratory/DIP_Bootcamp2024-SS2/refs/heads/master/Lab3_Basic-Image-Convolution-and-Filter-Response/asset/3-3/1.png)\n",
    "\n",
    "</details>"
   ]
  },
  {
   "cell_type": "code",
   "execution_count": null,
   "metadata": {},
   "outputs": [],
   "source": [
    "### START CODE HERE ###\n",
    "\n",
    "img1 = None\n",
    "img2 = None\n",
    "\n",
    "\n",
    "plt.show()\n",
    "### END CODE HERE ###\n",
    "# print(img1[:20, :20])"
   ]
  },
  {
   "cell_type": "markdown",
   "metadata": {},
   "source": [
    "Resource : https://iodized-property-91e.notion.site/Histogram-of-Oriented-Gradient-608b8a257cc54358b695e21aedf408c7\n",
    "\n",
    "Extract feature descriptor from both images using [`hog()`](https://scikit-image.org/docs/stable/api/skimage.feature.html#skimage.feature.hog:~:text=skimage.feature.hog(image%2C%20orientations%3D9%2C%20pixels_per_cell%3D(8%2C%208)%2C%20cells_per_block%3D(3%2C%203)%2C%20block_norm%3D%27L2%2DHys%27%2C%20visualize%3DFalse%2C%20transform_sqrt%3DFalse%2C%20feature_vector%3DTrue%2C%20*%2C%20channel_axis%3DNone)) from `skimage`"
   ]
  },
  {
   "cell_type": "code",
   "execution_count": null,
   "metadata": {},
   "outputs": [],
   "source": [
    "### START CODE HERE ###\n",
    "\n",
    "fd1, hog_image1 = hog(None)\n",
    "\n",
    "fd2, hog_image2 = hog(None)\n",
    "\n",
    "### END CODE HERE ###"
   ]
  },
  {
   "cell_type": "markdown",
   "metadata": {},
   "source": [
    "Create funtion to calculate L1 norm, L2 norm and cosine_similarity."
   ]
  },
  {
   "cell_type": "code",
   "execution_count": null,
   "metadata": {},
   "outputs": [],
   "source": [
    "### START CODE HERE ###\n",
    "def l1_norm(a,b):\n",
    "    pass\n",
    "\n",
    "def l2_norm(a,b):\n",
    "    pass\n",
    "\n",
    "def cosine_similarity(a,b):\n",
    "    pass\n",
    "\n",
    "### END CODE HERE ###"
   ]
  },
  {
   "cell_type": "markdown",
   "metadata": {},
   "source": [
    "Compare the distance using all previously defined functions between the features extracted from `img1` and `img2`."
   ]
  },
  {
   "cell_type": "code",
   "execution_count": null,
   "metadata": {},
   "outputs": [],
   "source": [
    "### START CODE HERE ###\n",
    "print('l1_norm', l1_norm(None))\n",
    "print('l2_norm', l2_norm(None))\n",
    "print('cosine_similarity', cosine_similarity(None))\n",
    "### END CODE HERE ###"
   ]
  },
  {
   "cell_type": "markdown",
   "metadata": {},
   "source": [
    "Read all images using using OpenCV. Then display images.\n",
    "\n",
    "<details>\n",
    "<summary>\n",
    "<font size=\"3\" color=\"orange\">\n",
    "<b>Expected output</b>\n",
    "</font>\n",
    "</summary>\n",
    "\n",
    "- The output should resemble this, but not be identical\n",
    "\n",
    "![image.png](https://raw.githubusercontent.com/Digital-Image-Processing-Laboratory/DIP_Bootcamp2024-SS2/refs/heads/master/Lab3_Basic-Image-Convolution-and-Filter-Response/asset/3-3/2.png)\n",
    "</details>"
   ]
  },
  {
   "cell_type": "code",
   "execution_count": null,
   "metadata": {},
   "outputs": [],
   "source": [
    "img_paths = []\n",
    "for i in range(10):\n",
    "    path = f'/mnt/d/Image_Processing_Bootcamp/Solution/Lab3_Basic-Image-Convolution-and-Filter-Response/dataset/{i}.png'\n",
    "    img_paths.append(path)\n",
    "\n",
    "import matplotlib.pyplot as plt\n",
    "fig, axes = plt.subplots(1, len(img_paths), figsize=(15, 5))\n",
    "\n",
    "for i, img_path in enumerate(img_paths):\n",
    "    img = cv2.imread(img_path)\n",
    "    img = cv2.cvtColor(img, cv2.COLOR_BGR2GRAY)\n",
    "    img = cv2.resize(img, (64, 64))\n",
    "    axes[i].imshow(img,cmap='gray')\n",
    "    axes[i].axis('off')\n",
    "\n",
    "plt.show()\n"
   ]
  },
  {
   "cell_type": "markdown",
   "metadata": {},
   "source": [
    "Compare the distances between all images using all the methods created previously for all images. Then, compare them in a dataframe like the reference below.\n",
    "\n",
    "<details>\n",
    "<summary>\n",
    "<font size=\"3\" color=\"orange\">\n",
    "<b>Expected output</b>\n",
    "</font>\n",
    "</summary>\n",
    "\n",
    "- The output should resemble this, but not be identical\n",
    "\n",
    "- L1 norm\n",
    "![image.png](https://raw.githubusercontent.com/Digital-Image-Processing-Laboratory/DIP_Bootcamp2024-SS2/refs/heads/master/Lab3_Basic-Image-Convolution-and-Filter-Response/asset/3-3/3.png)\n",
    "\n",
    "- L2 norm\n",
    "![image-2.png](https://raw.githubusercontent.com/Digital-Image-Processing-Laboratory/DIP_Bootcamp2024-SS2/refs/heads/master/Lab3_Basic-Image-Convolution-and-Filter-Response/asset/3-3/4.png)\n",
    "\n",
    "- Cosine Similarity\n",
    "![image-3.png](https://raw.githubusercontent.com/Digital-Image-Processing-Laboratory/DIP_Bootcamp2024-SS2/refs/heads/master/Lab3_Basic-Image-Convolution-and-Filter-Response/asset/3-3/5.png)\n",
    "\n",
    "</details>"
   ]
  },
  {
   "cell_type": "code",
   "execution_count": null,
   "metadata": {},
   "outputs": [],
   "source": [
    "### START CODE HERE ###\n",
    "\n",
    "\n",
    "\n",
    "### END CODE HERE ###"
   ]
  },
  {
   "cell_type": "markdown",
   "metadata": {},
   "source": [
    "Questions:\n",
    "1. Using HOG Descriptor as image feature, discuss the best distingshable pairs of the numeric letters and the similar pairs that cannot be distinguished.\n",
    "2. Which vector comparison techniques (L1, L2 norm, and Cosine Similarity) perform best for detecting similar and dissimilar pairs of the numeric letters?"
   ]
  }
 ],
 "metadata": {
  "kernelspec": {
   "display_name": "pytorch_py3.10",
   "language": "python",
   "name": "python3"
  },
  "language_info": {
   "codemirror_mode": {
    "name": "ipython",
    "version": 3
   },
   "file_extension": ".py",
   "mimetype": "text/x-python",
   "name": "python",
   "nbconvert_exporter": "python",
   "pygments_lexer": "ipython3",
   "version": "3.11.2"
  }
 },
 "nbformat": 4,
 "nbformat_minor": 2
}
