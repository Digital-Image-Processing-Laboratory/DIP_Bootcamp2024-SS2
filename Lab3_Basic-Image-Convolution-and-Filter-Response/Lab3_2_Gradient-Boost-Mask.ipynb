{
 "cells": [
  {
   "cell_type": "markdown",
   "metadata": {},
   "source": [
    "# **Lab 3.2 Gradient Boost Mask**"
   ]
  },
  {
   "cell_type": "code",
   "execution_count": null,
   "metadata": {},
   "outputs": [],
   "source": [
    "import cv2\n",
    "import matplotlib.pyplot as plt\n",
    "import numpy as np\n",
    "from scipy import signal\n",
    "from mpl_toolkits.axes_grid1 import ImageGrid\n",
    "import os\n",
    "import matplotlib.pyplot as plt\n",
    "import matplotlib.animation as animation\n",
    "from IPython.display import HTML"
   ]
  },
  {
   "cell_type": "markdown",
   "metadata": {},
   "source": [
    "Read an image using OpenCV (Use your own image)."
   ]
  },
  {
   "cell_type": "code",
   "execution_count": null,
   "metadata": {},
   "outputs": [],
   "source": [
    "### START CODE HERE ###\n",
    "\n",
    "img = cv2.imread(None)\n",
    "\n",
    "### END CODE HERE ###\n",
    "plt.imshow(img,cmap='gray')"
   ]
  },
  {
   "cell_type": "markdown",
   "metadata": {},
   "source": [
    "## **Unsharp Masking using image gradient from differntial kernel**"
   ]
  },
  {
   "cell_type": "markdown",
   "metadata": {},
   "source": [
    "Resource : https://www.notion.so/Image-Contrast-Enhancement-Unsharp-masking-0d1683a1d3c742f69a4c0835141941a7\n",
    "\n",
    "In this lab you can use signal.convolve2d() to perform the 2D convolution. \n",
    "<details>\n",
    "<summary>\n",
    "<font size=\"3\" color=\"orange\">\n",
    "<b>Expected output</b>\n",
    "</font>\n",
    "</summary>\n",
    "\n",
    "- In this lab, you can use `signal.convolve2d()` to perform 2D convolution.\n",
    "\n",
    "![image.png](https://raw.githubusercontent.com/Digital-Image-Processing-Laboratory/DIP_Bootcamp2024-SS2/refs/heads/master/Lab3_Basic-Image-Convolution-and-Filter-Response/asset/3-2/1.png)\n",
    "\n",
    "</details>"
   ]
  },
  {
   "cell_type": "code",
   "execution_count": null,
   "metadata": {},
   "outputs": [],
   "source": [
    "### START CODE HERE ###\n",
    "\n",
    "lpc_mask = None\n",
    "                    \n",
    "k = None\n",
    "\n",
    "grad = signal.convolve2d(None)\n",
    "\n",
    "### END CODE HERE ###"
   ]
  },
  {
   "cell_type": "markdown",
   "metadata": {},
   "source": [
    "Now, let's try with k value in range `[0.1,0.2,0.3,0.4,...,1.0]`. Then, display the result using `animation.FuncAnimation()` like the reference image below.\n",
    "\n",
    "<details>\n",
    "<summary>\n",
    "<font size=\"3\" color=\"orange\">\n",
    "<b>Expected output</b>\n",
    "</font>\n",
    "</summary>\n",
    "\n",
    "- The output should resemble this, but not be identical\n",
    "\n",
    "![Recording2024-04-16125002-ezgif.com-video-to-gif-converter.gif](https://raw.githubusercontent.com/Digital-Image-Processing-Laboratory/DIP_Bootcamp2024-SS2/refs/heads/master/Lab3_Basic-Image-Convolution-and-Filter-Response/asset/3-2/2.gif)\n",
    "\n",
    "</details>\n",
    "\n"
   ]
  },
  {
   "cell_type": "code",
   "execution_count": null,
   "metadata": {},
   "outputs": [],
   "source": [
    "%%capture\n",
    "### START CODE HERE ###\n",
    "lpc_mask = None\n",
    "k = None\n",
    "\n",
    "fig, axs = plt.subplots(1, 3, figsize=(10, 5))\n",
    "\n",
    "def update(frame):\n",
    "    pass\n",
    "\n",
    "### END CODE HERE ###\n",
    "ani =  animation.FuncAnimation(fig, update, frames=len(k), interval=200, blit=False)"
   ]
  },
  {
   "cell_type": "code",
   "execution_count": null,
   "metadata": {},
   "outputs": [],
   "source": [
    "display(HTML(ani.to_jshtml()))"
   ]
  },
  {
   "cell_type": "markdown",
   "metadata": {},
   "source": [
    "## **Unsharp Masking using image gradient from image difference**"
   ]
  },
  {
   "cell_type": "markdown",
   "metadata": {},
   "source": [
    "<details>\n",
    "<summary>\n",
    "<font size=\"3\" color=\"orange\">\n",
    "<b>Expected output</b>\n",
    "</font>\n",
    "</summary>\n",
    "\n",
    "- The output should resemble this, but not be identical\n",
    "\n",
    "![image.png](https://raw.githubusercontent.com/Digital-Image-Processing-Laboratory/DIP_Bootcamp2024-SS2/refs/heads/master/Lab3_Basic-Image-Convolution-and-Filter-Response/asset/3-2/3.png)\n",
    "\n",
    "</details>"
   ]
  },
  {
   "cell_type": "code",
   "execution_count": null,
   "metadata": {},
   "outputs": [],
   "source": [
    "### START CODE HERE ###\n",
    "\n",
    "lpc_mask = None\n",
    "                    \n",
    "k = None\n",
    "\n",
    "grad = signal.convolve2d(None)\n",
    "\n",
    "### END CODE HERE ###"
   ]
  },
  {
   "cell_type": "markdown",
   "metadata": {},
   "source": [
    "<details>\n",
    "<summary>\n",
    "<font size=\"3\" color=\"orange\">\n",
    "<b>Expected output</b>\n",
    "</font>\n",
    "</summary>\n",
    "\n",
    "- The output should resemble this, but not be identical\n",
    "\n",
    "![Recording2024-04-16125734-ezgif.com-video-to-gif-converter.gif](https://raw.githubusercontent.com/Digital-Image-Processing-Laboratory/DIP_Bootcamp2024-SS2/refs/heads/master/Lab3_Basic-Image-Convolution-and-Filter-Response/asset/3-2/4.gif)\n",
    "\n",
    "</details>"
   ]
  },
  {
   "cell_type": "code",
   "execution_count": null,
   "metadata": {},
   "outputs": [],
   "source": [
    "%%capture\n",
    "### START CODE HERE ###\n",
    "lpc_mask = None\n",
    "k = None\n",
    "\n",
    "fig, axs = plt.subplots(1, 3, figsize=(10, 5))\n",
    "\n",
    "def update(frame):\n",
    "    pass\n",
    "\n",
    "### END CODE HERE ###\n",
    "ani =  animation.FuncAnimation(fig, update, frames=len(k), interval=200, blit=False)"
   ]
  },
  {
   "cell_type": "code",
   "execution_count": null,
   "metadata": {},
   "outputs": [],
   "source": [
    "display(HTML(ani.to_jshtml()))"
   ]
  },
  {
   "cell_type": "markdown",
   "metadata": {},
   "source": [
    "Now, Let's try with noisy image\n",
    "<details>\n",
    "<summary>\n",
    "<font size=\"3\" color=\"orange\">\n",
    "<b>Expected output</b>\n",
    "</font>\n",
    "</summary>\n",
    "\n",
    "- The output should resemble this, but not be identical\n",
    "\n",
    "![image.png](https://raw.githubusercontent.com/Digital-Image-Processing-Laboratory/DIP_Bootcamp2024-SS2/refs/heads/master/Lab3_Basic-Image-Convolution-and-Filter-Response/asset/3-2/5.png)\n",
    "\n",
    "</details>"
   ]
  },
  {
   "cell_type": "code",
   "execution_count": null,
   "metadata": {},
   "outputs": [],
   "source": [
    "### START CODE HERE ###\n",
    "noisy_img = None\n",
    "\n",
    "### END CODE HERE ###\n",
    "plt.imshow(noisy_img, cmap='gray')\n",
    "plt.title('Noisy Image')\n",
    "plt.show()\n"
   ]
  },
  {
   "cell_type": "markdown",
   "metadata": {},
   "source": [
    "<details>\n",
    "<summary>\n",
    "<font size=\"3\" color=\"orange\">\n",
    "<b>Expected output</b>\n",
    "</font>\n",
    "</summary>\n",
    "\n",
    "- The output should resemble this, but not be identical\n",
    "\n",
    "![image.png](https://raw.githubusercontent.com/Digital-Image-Processing-Laboratory/DIP_Bootcamp2024-SS2/refs/heads/master/Lab3_Basic-Image-Convolution-and-Filter-Response/asset/3-2/6.png)\n",
    "\n",
    "</details>"
   ]
  },
  {
   "cell_type": "code",
   "execution_count": null,
   "metadata": {},
   "outputs": [],
   "source": [
    "### START CODE HERE ###\n",
    "\n",
    "lpc_mask = None\n",
    "                    \n",
    "k = None\n",
    "\n",
    "grad = signal.convolve2d(None)\n",
    "\n",
    "### END CODE HERE ###"
   ]
  },
  {
   "cell_type": "markdown",
   "metadata": {},
   "source": [
    "<details>\n",
    "<summary>\n",
    "<font size=\"3\" color=\"orange\">\n",
    "<b>Expected output</b>\n",
    "</font>\n",
    "</summary>\n",
    "\n",
    "- The output should resemble this, but not be identical\n",
    "\n",
    "![image.png](https://raw.githubusercontent.com/Digital-Image-Processing-Laboratory/DIP_Bootcamp2024-SS2/refs/heads/master/Lab3_Basic-Image-Convolution-and-Filter-Response/asset/3-2/7.png)\n",
    "\n",
    "</details>"
   ]
  },
  {
   "cell_type": "code",
   "execution_count": null,
   "metadata": {},
   "outputs": [],
   "source": [
    "### START CODE HERE ###\n",
    "\n",
    "lpc_mask = None\n",
    "                    \n",
    "k = None\n",
    "\n",
    "grad = signal.convolve2d(None)\n",
    "\n",
    "### END CODE HERE ###"
   ]
  },
  {
   "cell_type": "markdown",
   "metadata": {},
   "source": [
    "Questions:\n",
    "1. How would noise affect the image resulted from the unsharp masking from differential kernel vs from image difference?\n",
    "2. Discuss processing time difference between conventional three steps (straight forward) unsharp masking and integral kernel (integration of three steps into a single kernel)."
   ]
  },
  {
   "cell_type": "markdown",
   "metadata": {},
   "source": []
  }
 ],
 "metadata": {
  "kernelspec": {
   "display_name": "pytorch_py3.10",
   "language": "python",
   "name": "python3"
  },
  "language_info": {
   "codemirror_mode": {
    "name": "ipython",
    "version": 3
   },
   "file_extension": ".py",
   "mimetype": "text/x-python",
   "name": "python",
   "nbconvert_exporter": "python",
   "pygments_lexer": "ipython3",
   "version": "3.11.2"
  }
 },
 "nbformat": 4,
 "nbformat_minor": 2
}
