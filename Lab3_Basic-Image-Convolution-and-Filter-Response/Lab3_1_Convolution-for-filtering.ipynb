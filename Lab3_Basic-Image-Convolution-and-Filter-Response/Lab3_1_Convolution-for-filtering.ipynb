{
 "cells": [
  {
   "cell_type": "markdown",
   "metadata": {},
   "source": [
    "# **Lab 3.1 Convolution for filtering**"
   ]
  },
  {
   "cell_type": "code",
   "execution_count": null,
   "metadata": {},
   "outputs": [],
   "source": [
    "import cv2\n",
    "import matplotlib.pyplot as plt\n",
    "import numpy as np\n",
    "from mpl_toolkits.axes_grid1 import ImageGrid\n",
    "import os\n",
    "import matplotlib.pyplot as plt\n",
    "import matplotlib.animation as animation\n",
    "from IPython.display import HTML\n",
    "import time"
   ]
  },
  {
   "cell_type": "markdown",
   "metadata": {},
   "source": [
    "Read an image using OpenCV (Use your own image)."
   ]
  },
  {
   "cell_type": "code",
   "execution_count": null,
   "metadata": {},
   "outputs": [],
   "source": [
    "### START CODE HERE ###\n",
    "\n",
    "img = cv2.imread(None)\n",
    "\n",
    "### END CODE HERE ###\n",
    "plt.imshow(img,cmap='gray')"
   ]
  },
  {
   "cell_type": "markdown",
   "metadata": {},
   "source": [
    "## **Average Mask**"
   ]
  },
  {
   "cell_type": "markdown",
   "metadata": {},
   "source": [
    "Resource : https://iodized-property-91e.notion.site/Convolution-vs-Correlation-f3d33b63282941358b4572bfe0dfc1c5"
   ]
  },
  {
   "cell_type": "markdown",
   "metadata": {},
   "source": [
    "Please complete the function below. Gaussian Kernel Creator via given kernel size and sigma value."
   ]
  },
  {
   "cell_type": "code",
   "execution_count": null,
   "metadata": {},
   "outputs": [],
   "source": [
    "def gkernel(ks=3, sig=2):\n",
    "    ### START CODE HERE ###\n",
    "\n",
    "\n",
    "    return None\n",
    "    ### END CODE HERE ###"
   ]
  },
  {
   "cell_type": "markdown",
   "metadata": {},
   "source": [
    "If your `gkernel()` function is correct, the cell below should run without any errors."
   ]
  },
  {
   "cell_type": "code",
   "execution_count": null,
   "metadata": {},
   "outputs": [],
   "source": [
    "\n",
    "kernel_default = gkernel()\n",
    "assert kernel_default.shape == (3, 3), \"Default kernel shape is incorrect\"\n",
    "assert np.allclose(np.sum(kernel_default), 1), \"Sum of kernel elements is not equal to 1\"\n",
    "\n",
    "kernel_length_5 = gkernel(ks=5)\n",
    "assert kernel_length_5.shape == (5, 5), \"Kernel shape with length 5 is incorrect\"\n",
    "assert np.allclose(np.sum(kernel_length_5), 1), \"Sum of kernel elements with length 5 is not equal to 1\"\n",
    "\n",
    "kernel_sigma_3 = gkernel(sig=3)\n",
    "assert kernel_sigma_3.shape == (3, 3), \"Kernel shape with sigma 3 is incorrect\"\n",
    "assert np.allclose(np.sum(kernel_sigma_3), 1), \"Sum of kernel elements with sigma 3 is not equal to 1\""
   ]
  },
  {
   "cell_type": "markdown",
   "metadata": {},
   "source": [
    "Display the `gkernel()` like the reference image below.\n",
    "<details>\n",
    "<summary>\n",
    "<font size=\"3\" color=\"orange\">\n",
    "<b>Expected output</b>\n",
    "</font>\n",
    "</summary>\n",
    "\n",
    "- The output should resemble this, but not be identical\n",
    "\n",
    "![image.png](https://raw.githubusercontent.com/Digital-Image-Processing-Laboratory/DIP_Bootcamp2024-SS2/refs/heads/master/Lab3_Basic-Image-Convolution-and-Filter-Response/asset/3-1/1.png)\n",
    "\n",
    "</details>\n"
   ]
  },
  {
   "cell_type": "code",
   "execution_count": null,
   "metadata": {},
   "outputs": [],
   "source": [
    "### START CODE HERE ###\n",
    "gkernel(ks=50, sig=6)\n",
    "\n",
    "### END CODE HERE ###"
   ]
  },
  {
   "cell_type": "markdown",
   "metadata": {},
   "source": [
    "Complete the `convolution2d()` in the cell below.\n",
    "Please do not use any helper functions for convolution operation."
   ]
  },
  {
   "cell_type": "code",
   "execution_count": null,
   "metadata": {},
   "outputs": [],
   "source": [
    "def convolution2d(img,kernel,padding,stride):\n",
    "    ### START CODE HERE ###\n",
    "\n",
    "    \n",
    "\n",
    "\n",
    "    \n",
    "    return None\n",
    "    ### END CODE HERE ###"
   ]
  },
  {
   "cell_type": "markdown",
   "metadata": {},
   "source": [
    "Use gmask to perform convolution with the image\n",
    "- kernel size = 5 \n",
    "- sigma = 2\n",
    "\n",
    "Then display the result image."
   ]
  },
  {
   "cell_type": "code",
   "execution_count": null,
   "metadata": {},
   "outputs": [],
   "source": [
    "### START CODE HERE ###\n",
    "g_mask = gkernel(None)\n",
    "result = convolution2d(None)\n",
    "\n",
    "### END CODE HERE ###\n",
    "plt.imshow(result,cmap='gray')"
   ]
  },
  {
   "cell_type": "markdown",
   "metadata": {},
   "source": [
    "Now, let's perform the operation with sigma values in the range `[0.2, 0.4, 0.6, 0.8, ..., 2.0]` and use `animation.FuncAnimation` to display the result like the reference below.\n",
    "\n",
    "<details>\n",
    "<summary>\n",
    "<font size=\"3\" color=\"orange\">\n",
    "<b>Expected output</b>\n",
    "</font>\n",
    "</summary>\n",
    "\n",
    "- The output should resemble this, but not be identical\n",
    "\n",
    "![Recording2024-04-16124208-ezgif.com-video-to-gif-converter.gif](https://raw.githubusercontent.com/Digital-Image-Processing-Laboratory/DIP_Bootcamp2024-SS2/refs/heads/master/Lab3_Basic-Image-Convolution-and-Filter-Response/asset/3-1/2.gif)\n",
    "\n",
    "</details>\n",
    "\n"
   ]
  },
  {
   "cell_type": "code",
   "execution_count": null,
   "metadata": {},
   "outputs": [],
   "source": [
    "%%capture\n",
    "\n",
    "### START CODE HERE ###\n",
    "sig_ls = None\n",
    "\n",
    "fig, ax = plt.subplots(1,2)\n",
    "\n",
    "def update(frame):\n",
    "    pass\n",
    "\n",
    "\n",
    "\n",
    "### END CODE HERE ###\n",
    "\n",
    "ani = animation.FuncAnimation(fig, update, frames=len(sig_ls), interval=200, blit=False)"
   ]
  },
  {
   "cell_type": "code",
   "execution_count": null,
   "metadata": {},
   "outputs": [],
   "source": [
    "display(HTML(ani.to_jshtml()))"
   ]
  },
  {
   "cell_type": "markdown",
   "metadata": {},
   "source": [
    "## **Differential Mask**"
   ]
  },
  {
   "cell_type": "markdown",
   "metadata": {},
   "source": [
    "Complete the `separable_convolutoin2d()` in the cell below.\n",
    "Please do not use any helper functions for convolution operation."
   ]
  },
  {
   "cell_type": "code",
   "execution_count": null,
   "metadata": {},
   "outputs": [],
   "source": [
    "def separable_convolutoin2d(img,k_1,k_2,padding,stride):\n",
    "    ### START CODE HERE ###\n",
    "\n",
    "\n",
    "\n",
    "\n",
    "    return None\n",
    "    ### END CODE HERE ###"
   ]
  },
  {
   "cell_type": "code",
   "execution_count": null,
   "metadata": {},
   "outputs": [],
   "source": [
    "### START CODE HERE ###\n",
    "k_1 = None\n",
    "k_2 = None\n",
    "result = separable_convolutoin2d(None)\n",
    "### END CODE HERE ###"
   ]
  },
  {
   "cell_type": "markdown",
   "metadata": {},
   "source": [
    "Compare the execution time between `convolution2d()` and `separable_convolution2d()`. Then, display the results of each."
   ]
  },
  {
   "cell_type": "code",
   "execution_count": null,
   "metadata": {},
   "outputs": [],
   "source": [
    "### START CODE HERE ###\n",
    "\n",
    "execution_time = None\n",
    "\n",
    "### END CODE HERE ###\n",
    "print(\"Time used: \", execution_time, \" seconds\")\n",
    "plt.imshow(None)"
   ]
  },
  {
   "cell_type": "code",
   "execution_count": null,
   "metadata": {},
   "outputs": [],
   "source": [
    "### START CODE HERE ###\n",
    "\n",
    "execution_time = None\n",
    "\n",
    "### END CODE HERE ###\n",
    "print(\"Time used: \", execution_time, \" seconds\")\n",
    "plt.imshow(None)"
   ]
  },
  {
   "cell_type": "markdown",
   "metadata": {},
   "source": [
    "## **Manual Adjust Kernel**\n",
    "Manually adjust the mask to filter BIRDS from the given image. Start with the mask provided below.\n",
    "$$\n",
    "w_{Laplacian}=\\begin{bmatrix}\n",
    "  -1 & -1 & -1 \\\\\n",
    "  -1  & 8  & -1 \\\\\n",
    "  -1  & -1  & -1\n",
    "\\end{bmatrix}\n",
    "$$\n",
    "\n",
    "<details>\n",
    "<summary>\n",
    "<font size=\"3\" color=\"orange\">\n",
    "<b>Expected output</b>\n",
    "</font>\n",
    "</summary>\n",
    "\n",
    "- The output should resemble this, but not be identical\n",
    "\n",
    "![image.png](https://raw.githubusercontent.com/Digital-Image-Processing-Laboratory/DIP_Bootcamp2024-SS2/refs/heads/master/Lab3_Basic-Image-Convolution-and-Filter-Response/asset/3-1/3.png)\n",
    "\n",
    "</details>"
   ]
  },
  {
   "cell_type": "code",
   "execution_count": null,
   "metadata": {},
   "outputs": [],
   "source": [
    "### START CODE HERE ###\n",
    "img = cv2.imread(None)\n",
    "\n",
    "\n",
    "### END CODE HERE ###\n",
    "plt.imshow(img,cmap='gray')"
   ]
  },
  {
   "cell_type": "code",
   "execution_count": null,
   "metadata": {},
   "outputs": [],
   "source": [
    "### START CODE HERE ###\n",
    "mask = None\n",
    "\n",
    "\n",
    "### END CODE HERE ###"
   ]
  },
  {
   "cell_type": "markdown",
   "metadata": {},
   "source": [
    "Questions:\n",
    "1. How would be the effect of enlarging average (Gaussian) kernel?\n",
    "2. What would be the difference of the image resulted from average kernel compared to differential (sobel) kernel?\n",
    "3. What would be the cause of missing gradient (edge) in some position in the resulting image (g(x,y)) after performing relu activation function (max(g(x,y),0))?\n",
    "4. Compare processing time between conventional 2D convolution and separable convolution.\n",
    "5. Discuss the process to extract the object (bird) obtained from the image resulted from your manual adjusted filter."
   ]
  },
  {
   "cell_type": "markdown",
   "metadata": {},
   "source": []
  }
 ],
 "metadata": {
  "kernelspec": {
   "display_name": "pytorch_py3.10",
   "language": "python",
   "name": "python3"
  },
  "language_info": {
   "codemirror_mode": {
    "name": "ipython",
    "version": 3
   },
   "file_extension": ".py",
   "mimetype": "text/x-python",
   "name": "python",
   "nbconvert_exporter": "python",
   "pygments_lexer": "ipython3",
   "version": "3.10.14"
  }
 },
 "nbformat": 4,
 "nbformat_minor": 2
}
